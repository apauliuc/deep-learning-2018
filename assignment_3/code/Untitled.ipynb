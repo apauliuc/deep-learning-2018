{
 "cells": [
  {
   "cell_type": "code",
   "execution_count": 1,
   "metadata": {},
   "outputs": [],
   "source": [
    "import argparse\n",
    "import os\n",
    "import pickle\n",
    "import matplotlib.pyplot as plt\n",
    "import numpy as np\n",
    "\n",
    "import torch\n",
    "import torch.nn as nn\n",
    "import torchvision.transforms as transforms\n",
    "from torchvision.utils import save_image, make_grid\n",
    "from torchvision import datasets"
   ]
  },
  {
   "cell_type": "code",
   "execution_count": 5,
   "metadata": {},
   "outputs": [],
   "source": [
    "class Generator(nn.Module):\n",
    "    def __init__(self, latent_dim):\n",
    "        super(Generator, self).__init__()\n",
    "\n",
    "        # Construct generator. You are free to experiment with your model,\n",
    "        # but the following is a good start:\n",
    "        #   Linear args.latent_dim -> 128\n",
    "        #   LeakyReLU(0.2)\n",
    "        #   Linear 128 -> 256\n",
    "        #   Bnorm\n",
    "        #   LeakyReLU(0.2)\n",
    "        #   Linear 256 -> 512\n",
    "        #   Bnorm\n",
    "        #   LeakyReLU(0.2)\n",
    "        #   Linear 512 -> 1024\n",
    "        #   Bnorm\n",
    "        #   LeakyReLU(0.2)\n",
    "        #   Linear 1024 -> 784\n",
    "        #   Output non-linearity\n",
    "        self.layer_seq = nn.Sequential(\n",
    "            nn.Linear(latent_dim, 128),\n",
    "            nn.LeakyReLU(0.2),\n",
    "            nn.Linear(128, 256),\n",
    "            nn.BatchNorm1d(256),\n",
    "            nn.LeakyReLU(0.2),\n",
    "            nn.Linear(256, 512),\n",
    "            nn.BatchNorm1d(512),\n",
    "            nn.LeakyReLU(0.2),\n",
    "            nn.Linear(512, 1024),\n",
    "            nn.BatchNorm1d(1024),\n",
    "            nn.LeakyReLU(0.2),\n",
    "            nn.Linear(1024, 784),\n",
    "            nn.Tanh()\n",
    "        )\n",
    "\n",
    "    def forward(self, z):\n",
    "        return self.layer_seq(z)"
   ]
  },
  {
   "cell_type": "code",
   "execution_count": 6,
   "metadata": {},
   "outputs": [],
   "source": [
    "latent_dim = 100\n",
    "g = Generator(100)\n",
    "i = 5\n",
    "g.load_state_dict(torch.load(f'gan_results_lisa/k_{i}/gan_k_{i}.pt'))"
   ]
  },
  {
   "cell_type": "code",
   "execution_count": null,
   "metadata": {},
   "outputs": [],
   "source": [
    "# with torch.no_grad():\n",
    "#     g.eval()\n",
    "#     noise = torch.randn(64, latent_dim)\n",
    "#     output = g(noise).view(-1, 28, 28)\n",
    "    \n",
    "# idx_1 = 0\n",
    "# idx_2 = 1\n",
    "\n",
    "# start_image = output[idx_1]\n",
    "# start_noise = noise[idx_1]\n",
    "\n",
    "# end_image = output[idx_2]\n",
    "# end_noise = noise[idx_2]\n",
    "\n",
    "# plt.figure()\n",
    "# plt.subplot(1, 2, 1)\n",
    "# plt.imshow(start_image, cmap='gray')\n",
    "# plt.subplot(1, 2, 2)\n",
    "# plt.imshow(end_image, cmap='gray')\n",
    "\n",
    "# interpolated = []\n",
    "\n",
    "# alphas = np.linspace(0, 1, 9)\n",
    "# for alpha in alphas:\n",
    "#     img = start_image*(1-alpha) + end_image*alpha\n",
    "#     interpolated.append(img)\n",
    "\n",
    "# plt.figure(figsize=(12,6))\n",
    "# for i, img in enumerate(interpolated):\n",
    "#     plt.subplot(1, 9, i+1)\n",
    "#     plt.imshow(img, cmap='gray')\n",
    "#     plt.axis('off')\n"
   ]
  },
  {
   "cell_type": "code",
   "execution_count": 12,
   "metadata": {},
   "outputs": [
    {
     "data": {
      "image/png": "[encoded data removed]",
      "text/plain": [
       "<Figure size 1152x576 with 9 Axes>"
      ]
     },
     "metadata": {
      "needs_background": "light"
     },
     "output_type": "display_data"
    }
   ],
   "source": [
    "with torch.no_grad():\n",
    "    g.eval()\n",
    "    \n",
    "    input_start = torch.randn(1, latent_dim)\n",
    "    input_end = torch.randn(1, latent_dim)\n",
    "    images = []\n",
    "    alphas = np.linspace(0, 1, 9)\n",
    "    for a in alphas:\n",
    "        input_interpol = input_start*(1-a) + input_end*a\n",
    "        latent_result = g(input_interpol)\n",
    "        images.append(latent_result)\n",
    "    \n",
    "plt.figure(figsize=(16,8))\n",
    "for i, img in enumerate(images):\n",
    "    plt.subplot(1, 9, i+1)\n",
    "    plt.imshow(img.view(28, 28), cmap='gray')\n",
    "    plt.axis('off')"
   ]
  },
  {
   "cell_type": "code",
   "execution_count": 13,
   "metadata": {},
   "outputs": [
    {
     "data": {
      "image/png": "[encoded data removed]",
      "text/plain": [
       "<Figure size 1152x576 with 9 Axes>"
      ]
     },
     "metadata": {
      "needs_background": "light"
     },
     "output_type": "display_data"
    }
   ],
   "source": [
    "plt.figure(figsize=(16,8))\n",
    "for i, img in enumerate(images):\n",
    "    plt.subplot(1, 9, i+1)\n",
    "    plt.imshow(img.view(28, 28), cmap='gray')\n",
    "    plt.axis('off')\n",
    "plt.savefig('gan_interpolation_2.png')"
   ]
  },
  {
   "cell_type": "code",
   "execution_count": null,
   "metadata": {},
   "outputs": [],
   "source": []
  },
  {
   "cell_type": "code",
   "execution_count": null,
   "metadata": {},
   "outputs": [],
   "source": []
  },
  {
   "cell_type": "code",
   "execution_count": null,
   "metadata": {},
   "outputs": [],
   "source": []
  },
  {
   "cell_type": "code",
   "execution_count": 3,
   "metadata": {},
   "outputs": [
    {
     "data": {
      "text/plain": [
       "(1.0, 140.0)"
      ]
     },
     "execution_count": 3,
     "metadata": {},
     "output_type": "execute_result"
    }
   ],
   "source": [
    "1000 / 1000, 140000 / 1000"
   ]
  },
  {
   "cell_type": "code",
   "execution_count": 4,
   "metadata": {},
   "outputs": [
    {
     "data": {
      "text/plain": [
       "70.0"
      ]
     },
     "execution_count": 4,
     "metadata": {},
     "output_type": "execute_result"
    }
   ],
   "source": [
    "140 / 2"
   ]
  },
  {
   "cell_type": "code",
   "execution_count": null,
   "metadata": {},
   "outputs": [],
   "source": []
  }
 ],
 "metadata": {
  "kernelspec": {
   "display_name": "Python 3",
   "language": "python",
   "name": "python3"
  },
  "language_info": {
   "codemirror_mode": {
    "name": "ipython",
    "version": 3
   },
   "file_extension": ".py",
   "mimetype": "text/x-python",
   "name": "python",
   "nbconvert_exporter": "python",
   "pygments_lexer": "ipython3",
   "version": "3.6.6"
  }
 },
 "nbformat": 4,
 "nbformat_minor": 2
}
